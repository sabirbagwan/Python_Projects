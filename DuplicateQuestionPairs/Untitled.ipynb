{
 "cells": [
  {
   "cell_type": "code",
   "execution_count": 1,
   "id": "faf04712",
   "metadata": {},
   "outputs": [],
   "source": [
    "import pandas as pd \n",
    "import numpy as np \n",
    "import seaborn as sns \n",
    "import matplotlib.pyplot as plt"
   ]
  },
  {
   "cell_type": "code",
   "execution_count": 2,
   "id": "54e1bc74",
   "metadata": {},
   "outputs": [
    {
     "data": {
      "text/html": [
       "<div>\n",
       "<style scoped>\n",
       "    .dataframe tbody tr th:only-of-type {\n",
       "        vertical-align: middle;\n",
       "    }\n",
       "\n",
       "    .dataframe tbody tr th {\n",
       "        vertical-align: top;\n",
       "    }\n",
       "\n",
       "    .dataframe thead th {\n",
       "        text-align: right;\n",
       "    }\n",
       "</style>\n",
       "<table border=\"1\" class=\"dataframe\">\n",
       "  <thead>\n",
       "    <tr style=\"text-align: right;\">\n",
       "      <th></th>\n",
       "      <th>id</th>\n",
       "      <th>qid1</th>\n",
       "      <th>qid2</th>\n",
       "      <th>question1</th>\n",
       "      <th>question2</th>\n",
       "      <th>is_duplicate</th>\n",
       "    </tr>\n",
       "  </thead>\n",
       "  <tbody>\n",
       "    <tr>\n",
       "      <th>0</th>\n",
       "      <td>0</td>\n",
       "      <td>1</td>\n",
       "      <td>2</td>\n",
       "      <td>What is the step by step guide to invest in sh...</td>\n",
       "      <td>What is the step by step guide to invest in sh...</td>\n",
       "      <td>0</td>\n",
       "    </tr>\n",
       "    <tr>\n",
       "      <th>1</th>\n",
       "      <td>1</td>\n",
       "      <td>3</td>\n",
       "      <td>4</td>\n",
       "      <td>What is the story of Kohinoor (Koh-i-Noor) Dia...</td>\n",
       "      <td>What would happen if the Indian government sto...</td>\n",
       "      <td>0</td>\n",
       "    </tr>\n",
       "  </tbody>\n",
       "</table>\n",
       "</div>"
      ],
      "text/plain": [
       "   id  qid1  qid2                                          question1  \\\n",
       "0   0     1     2  What is the step by step guide to invest in sh...   \n",
       "1   1     3     4  What is the story of Kohinoor (Koh-i-Noor) Dia...   \n",
       "\n",
       "                                           question2  is_duplicate  \n",
       "0  What is the step by step guide to invest in sh...             0  \n",
       "1  What would happen if the Indian government sto...             0  "
      ]
     },
     "execution_count": 2,
     "metadata": {},
     "output_type": "execute_result"
    }
   ],
   "source": [
    "df = pd.read_csv('./train.csv')\n",
    "df.head(2)"
   ]
  },
  {
   "cell_type": "code",
   "execution_count": 3,
   "id": "3a49824c",
   "metadata": {},
   "outputs": [
    {
     "data": {
      "text/plain": [
       "(404290, 6)"
      ]
     },
     "execution_count": 3,
     "metadata": {},
     "output_type": "execute_result"
    }
   ],
   "source": [
    "df.shape"
   ]
  },
  {
   "cell_type": "code",
   "execution_count": 4,
   "id": "dded1557",
   "metadata": {},
   "outputs": [
    {
     "data": {
      "text/html": [
       "<div>\n",
       "<style scoped>\n",
       "    .dataframe tbody tr th:only-of-type {\n",
       "        vertical-align: middle;\n",
       "    }\n",
       "\n",
       "    .dataframe tbody tr th {\n",
       "        vertical-align: top;\n",
       "    }\n",
       "\n",
       "    .dataframe thead th {\n",
       "        text-align: right;\n",
       "    }\n",
       "</style>\n",
       "<table border=\"1\" class=\"dataframe\">\n",
       "  <thead>\n",
       "    <tr style=\"text-align: right;\">\n",
       "      <th></th>\n",
       "      <th>id</th>\n",
       "      <th>qid1</th>\n",
       "      <th>qid2</th>\n",
       "      <th>question1</th>\n",
       "      <th>question2</th>\n",
       "      <th>is_duplicate</th>\n",
       "    </tr>\n",
       "  </thead>\n",
       "  <tbody>\n",
       "    <tr>\n",
       "      <th>235872</th>\n",
       "      <td>235872</td>\n",
       "      <td>176943</td>\n",
       "      <td>82407</td>\n",
       "      <td>Does the Indian education system benefit the p...</td>\n",
       "      <td>What are the major issues with Indian educatio...</td>\n",
       "      <td>0</td>\n",
       "    </tr>\n",
       "    <tr>\n",
       "      <th>196141</th>\n",
       "      <td>196141</td>\n",
       "      <td>296783</td>\n",
       "      <td>296784</td>\n",
       "      <td>Does McDonald's have a secret menu?</td>\n",
       "      <td>Is the McDonald's secret menu real?</td>\n",
       "      <td>1</td>\n",
       "    </tr>\n",
       "    <tr>\n",
       "      <th>57200</th>\n",
       "      <td>57200</td>\n",
       "      <td>60772</td>\n",
       "      <td>100548</td>\n",
       "      <td>Is it allowed for a dependent of UK Tier2 Gene...</td>\n",
       "      <td>What are the additional benefits/perks of havi...</td>\n",
       "      <td>0</td>\n",
       "    </tr>\n",
       "    <tr>\n",
       "      <th>356402</th>\n",
       "      <td>356402</td>\n",
       "      <td>54134</td>\n",
       "      <td>485713</td>\n",
       "      <td>How do I know I'm ready for the next relations...</td>\n",
       "      <td>When and how will I know that I am ready to en...</td>\n",
       "      <td>0</td>\n",
       "    </tr>\n",
       "    <tr>\n",
       "      <th>188804</th>\n",
       "      <td>188804</td>\n",
       "      <td>246852</td>\n",
       "      <td>190728</td>\n",
       "      <td>Why doesn't Quora allow Upvotes on Questions?</td>\n",
       "      <td>Quora: Why doesn't Quora have an upvote option...</td>\n",
       "      <td>1</td>\n",
       "    </tr>\n",
       "    <tr>\n",
       "      <th>120583</th>\n",
       "      <td>120583</td>\n",
       "      <td>15163</td>\n",
       "      <td>195562</td>\n",
       "      <td>Who are the strongest Marvel characters and why?</td>\n",
       "      <td>Who is the greatest Marvel character and why?</td>\n",
       "      <td>0</td>\n",
       "    </tr>\n",
       "    <tr>\n",
       "      <th>393402</th>\n",
       "      <td>393402</td>\n",
       "      <td>74733</td>\n",
       "      <td>258216</td>\n",
       "      <td>How do I become friends with a girl?</td>\n",
       "      <td>How can I become friends with many girls?</td>\n",
       "      <td>0</td>\n",
       "    </tr>\n",
       "    <tr>\n",
       "      <th>221371</th>\n",
       "      <td>221371</td>\n",
       "      <td>328706</td>\n",
       "      <td>328707</td>\n",
       "      <td>Have people gotten the Lollipop update for the...</td>\n",
       "      <td>Has anyone gotten the Lollipop update for the ...</td>\n",
       "      <td>1</td>\n",
       "    </tr>\n",
       "    <tr>\n",
       "      <th>158992</th>\n",
       "      <td>158992</td>\n",
       "      <td>176781</td>\n",
       "      <td>248269</td>\n",
       "      <td>I'm an Egyptian and I need to emigrate to Cana...</td>\n",
       "      <td>I am doing a master's in signal processing and...</td>\n",
       "      <td>0</td>\n",
       "    </tr>\n",
       "    <tr>\n",
       "      <th>96409</th>\n",
       "      <td>96409</td>\n",
       "      <td>11382</td>\n",
       "      <td>160595</td>\n",
       "      <td>Should President Obama pardon Hillary Clinton ...</td>\n",
       "      <td>If Hillary Clinton gets indicted and Trump bec...</td>\n",
       "      <td>0</td>\n",
       "    </tr>\n",
       "  </tbody>\n",
       "</table>\n",
       "</div>"
      ],
      "text/plain": [
       "            id    qid1    qid2  \\\n",
       "235872  235872  176943   82407   \n",
       "196141  196141  296783  296784   \n",
       "57200    57200   60772  100548   \n",
       "356402  356402   54134  485713   \n",
       "188804  188804  246852  190728   \n",
       "120583  120583   15163  195562   \n",
       "393402  393402   74733  258216   \n",
       "221371  221371  328706  328707   \n",
       "158992  158992  176781  248269   \n",
       "96409    96409   11382  160595   \n",
       "\n",
       "                                                question1  \\\n",
       "235872  Does the Indian education system benefit the p...   \n",
       "196141                Does McDonald's have a secret menu?   \n",
       "57200   Is it allowed for a dependent of UK Tier2 Gene...   \n",
       "356402  How do I know I'm ready for the next relations...   \n",
       "188804      Why doesn't Quora allow Upvotes on Questions?   \n",
       "120583   Who are the strongest Marvel characters and why?   \n",
       "393402               How do I become friends with a girl?   \n",
       "221371  Have people gotten the Lollipop update for the...   \n",
       "158992  I'm an Egyptian and I need to emigrate to Cana...   \n",
       "96409   Should President Obama pardon Hillary Clinton ...   \n",
       "\n",
       "                                                question2  is_duplicate  \n",
       "235872  What are the major issues with Indian educatio...             0  \n",
       "196141                Is the McDonald's secret menu real?             1  \n",
       "57200   What are the additional benefits/perks of havi...             0  \n",
       "356402  When and how will I know that I am ready to en...             0  \n",
       "188804  Quora: Why doesn't Quora have an upvote option...             1  \n",
       "120583      Who is the greatest Marvel character and why?             0  \n",
       "393402          How can I become friends with many girls?             0  \n",
       "221371  Has anyone gotten the Lollipop update for the ...             1  \n",
       "158992  I am doing a master's in signal processing and...             0  \n",
       "96409   If Hillary Clinton gets indicted and Trump bec...             0  "
      ]
     },
     "execution_count": 4,
     "metadata": {},
     "output_type": "execute_result"
    }
   ],
   "source": [
    "df.sample(10)"
   ]
  },
  {
   "cell_type": "code",
   "execution_count": 5,
   "id": "58257ca0",
   "metadata": {},
   "outputs": [
    {
     "name": "stdout",
     "output_type": "stream",
     "text": [
      "<class 'pandas.core.frame.DataFrame'>\n",
      "RangeIndex: 404290 entries, 0 to 404289\n",
      "Data columns (total 6 columns):\n",
      " #   Column        Non-Null Count   Dtype \n",
      "---  ------        --------------   ----- \n",
      " 0   id            404290 non-null  int64 \n",
      " 1   qid1          404290 non-null  int64 \n",
      " 2   qid2          404290 non-null  int64 \n",
      " 3   question1     404289 non-null  object\n",
      " 4   question2     404288 non-null  object\n",
      " 5   is_duplicate  404290 non-null  int64 \n",
      "dtypes: int64(4), object(2)\n",
      "memory usage: 18.5+ MB\n"
     ]
    }
   ],
   "source": [
    "df.info()"
   ]
  },
  {
   "cell_type": "code",
   "execution_count": 6,
   "id": "f7c2bdf4",
   "metadata": {},
   "outputs": [
    {
     "data": {
      "text/plain": [
       "id              0\n",
       "qid1            0\n",
       "qid2            0\n",
       "question1       1\n",
       "question2       2\n",
       "is_duplicate    0\n",
       "dtype: int64"
      ]
     },
     "execution_count": 6,
     "metadata": {},
     "output_type": "execute_result"
    }
   ],
   "source": [
    "df.isnull().sum()"
   ]
  },
  {
   "cell_type": "code",
   "execution_count": 7,
   "id": "d9d080a1",
   "metadata": {},
   "outputs": [
    {
     "data": {
      "text/plain": [
       "0"
      ]
     },
     "execution_count": 7,
     "metadata": {},
     "output_type": "execute_result"
    }
   ],
   "source": [
    "df.duplicated().sum()"
   ]
  },
  {
   "cell_type": "code",
   "execution_count": 8,
   "id": "e16d00ee",
   "metadata": {},
   "outputs": [
    {
     "name": "stdout",
     "output_type": "stream",
     "text": [
      "0    255027\n",
      "1    149263\n",
      "Name: is_duplicate, dtype: int64\n"
     ]
    }
   ],
   "source": [
    "print(df['is_duplicate'].value_counts())"
   ]
  },
  {
   "cell_type": "code",
   "execution_count": 9,
   "id": "6aecdc34",
   "metadata": {},
   "outputs": [
    {
     "name": "stdout",
     "output_type": "stream",
     "text": [
      "404290\n"
     ]
    }
   ],
   "source": [
    "print(df['is_duplicate'].count())"
   ]
  },
  {
   "cell_type": "code",
   "execution_count": 10,
   "id": "8d2103a4",
   "metadata": {},
   "outputs": [
    {
     "data": {
      "text/plain": [
       "404290"
      ]
     },
     "execution_count": 10,
     "metadata": {},
     "output_type": "execute_result"
    }
   ],
   "source": [
    "df['is_duplicate'].count()"
   ]
  },
  {
   "cell_type": "code",
   "execution_count": 11,
   "id": "568bb5e1",
   "metadata": {},
   "outputs": [
    {
     "name": "stdout",
     "output_type": "stream",
     "text": [
      "0    63.080215\n",
      "1    36.919785\n",
      "Name: is_duplicate, dtype: float64\n"
     ]
    }
   ],
   "source": [
    "print((df['is_duplicate'].value_counts()/df['is_duplicate'].count())* 100)"
   ]
  },
  {
   "cell_type": "code",
   "execution_count": 12,
   "id": "2013ba9a",
   "metadata": {},
   "outputs": [
    {
     "data": {
      "text/plain": [
       "<AxesSubplot:>"
      ]
     },
     "execution_count": 12,
     "metadata": {},
     "output_type": "execute_result"
    },
    {
     "data": {
      "image/png": "[encoded data removed]",
      "text/plain": [
       "<Figure size 432x288 with 1 Axes>"
      ]
     },
     "metadata": {
      "needs_background": "light"
     },
     "output_type": "display_data"
    }
   ],
   "source": [
    "df['is_duplicate'].value_counts().plot(kind= 'bar')"
   ]
  },
  {
   "cell_type": "code",
   "execution_count": 21,
   "id": "22a3c2ae",
   "metadata": {},
   "outputs": [
    {
     "name": "stdout",
     "output_type": "stream",
     "text": [
      "Number of unique questions 537933\n",
      "\n",
      "\n",
      "2559       True\n",
      "30782      True\n",
      "4044       True\n",
      "2561       True\n",
      "14376      True\n",
      "          ...  \n",
      "416446    False\n",
      "416444    False\n",
      "416441    False\n",
      "416439    False\n",
      "537933    False\n",
      "Length: 537933, dtype: bool\n",
      "\n",
      "\n",
      "\n",
      "\n",
      "Number of questions getting repeated 111780\n"
     ]
    }
   ],
   "source": [
    "qid = pd.Series(df['qid1'].tolist() + df['qid2'].tolist())\n",
    "print('Number of unique questions', np.unique(qid).shape[0])\n",
    "print('\\n')\n",
    "x = qid.value_counts() > 1\n",
    "print(x)\n",
    "print('\\n')\n",
    "print('Number of questions getting repeated', x[x].shape[0])"
   ]
  },
  {
   "cell_type": "code",
   "execution_count": 14,
   "id": "3edf7598",
   "metadata": {},
   "outputs": [
    {
     "data": {
      "text/plain": [
       "dtype('int64')"
      ]
     },
     "execution_count": 14,
     "metadata": {},
     "output_type": "execute_result"
    }
   ],
   "source": [
    "qid.dtype"
   ]
  },
  {
   "cell_type": "code",
   "execution_count": null,
   "id": "276ce711",
   "metadata": {},
   "outputs": [],
   "source": []
  },
  {
   "cell_type": "code",
   "execution_count": null,
   "id": "3ba99979",
   "metadata": {},
   "outputs": [],
   "source": []
  },
  {
   "cell_type": "code",
   "execution_count": 15,
   "id": "55ebcf0f",
   "metadata": {},
   "outputs": [
    {
     "data": {
      "text/plain": [
       "pandas.core.series.Series"
      ]
     },
     "execution_count": 15,
     "metadata": {},
     "output_type": "execute_result"
    }
   ],
   "source": [
    "type(qid)"
   ]
  },
  {
   "cell_type": "code",
   "execution_count": 24,
   "id": "b9cda268",
   "metadata": {},
   "outputs": [
    {
     "data": {
      "image/png": "[encoded data removed]",
      "text/plain": [
       "<Figure size 432x288 with 1 Axes>"
      ]
     },
     "metadata": {
      "needs_background": "light"
     },
     "output_type": "display_data"
    }
   ],
   "source": [
    "plt.hist(qid.value_counts(), bins=160)\n",
    "plt.yscale('log')"
   ]
  },
  {
   "cell_type": "code",
   "execution_count": null,
   "id": "6314ef0e",
   "metadata": {},
   "outputs": [],
   "source": []
  }
 ],
 "metadata": {
  "kernelspec": {
   "display_name": "Python 3 (ipykernel)",
   "language": "python",
   "name": "python3"
  },
  "language_info": {
   "codemirror_mode": {
    "name": "ipython",
    "version": 3
   },
   "file_extension": ".py",
   "mimetype": "text/x-python",
   "name": "python",
   "nbconvert_exporter": "python",
   "pygments_lexer": "ipython3",
   "version": "3.10.3"
  }
 },
 "nbformat": 4,
 "nbformat_minor": 5
}
